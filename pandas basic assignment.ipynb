{
 "cells": [
  {
   "cell_type": "code",
   "execution_count": 1,
   "id": "15eca8d0-505b-4a62-88ed-5d38eae49e31",
   "metadata": {},
   "outputs": [],
   "source": [
    "# Q1. Create a Pandas Series that contains the following data: 4, 8, 15, 16, 23, and 42.\n",
    "# Then, print the series.\n",
    "\n",
    "import pandas as pd"
   ]
  },
  {
   "cell_type": "code",
   "execution_count": 2,
   "id": "bd718b47-5311-421e-b352-613cffc7b26e",
   "metadata": {},
   "outputs": [],
   "source": [
    "s = pd.Series([4,8,15,16,23])"
   ]
  },
  {
   "cell_type": "code",
   "execution_count": 3,
   "id": "61a1293f-3b54-4f1f-bfeb-669191d42808",
   "metadata": {},
   "outputs": [
    {
     "data": {
      "text/plain": [
       "0     4\n",
       "1     8\n",
       "2    15\n",
       "3    16\n",
       "4    23\n",
       "dtype: int64"
      ]
     },
     "execution_count": 3,
     "metadata": {},
     "output_type": "execute_result"
    }
   ],
   "source": [
    "s"
   ]
  },
  {
   "cell_type": "code",
   "execution_count": 4,
   "id": "302814c9-892b-4be4-b27c-8e3cbde93afc",
   "metadata": {},
   "outputs": [],
   "source": [
    "# Q2. Create a variable of list type containing 10 elements in it, and apply pandas.\n",
    "# Series function on the variable print it.\n",
    "\n",
    "my_list = [10,20,30,40,50,60,70,80,90,100]\n",
    "\n",
    "s1 = pd.Series(my_list)"
   ]
  },
  {
   "cell_type": "code",
   "execution_count": 5,
   "id": "69b238db-a89f-43f9-a3d5-afa606fae6c2",
   "metadata": {},
   "outputs": [
    {
     "data": {
      "text/plain": [
       "0     10\n",
       "1     20\n",
       "2     30\n",
       "3     40\n",
       "4     50\n",
       "5     60\n",
       "6     70\n",
       "7     80\n",
       "8     90\n",
       "9    100\n",
       "dtype: int64"
      ]
     },
     "execution_count": 5,
     "metadata": {},
     "output_type": "execute_result"
    }
   ],
   "source": [
    "s1"
   ]
  },
  {
   "cell_type": "code",
   "execution_count": 12,
   "id": "46d3f57b-5750-45be-bc8d-69c631fece0b",
   "metadata": {},
   "outputs": [
    {
     "data": {
      "text/html": [
       "<div>\n",
       "<style scoped>\n",
       "    .dataframe tbody tr th:only-of-type {\n",
       "        vertical-align: middle;\n",
       "    }\n",
       "\n",
       "    .dataframe tbody tr th {\n",
       "        vertical-align: top;\n",
       "    }\n",
       "\n",
       "    .dataframe thead th {\n",
       "        text-align: right;\n",
       "    }\n",
       "</style>\n",
       "<table border=\"1\" class=\"dataframe\">\n",
       "  <thead>\n",
       "    <tr style=\"text-align: right;\">\n",
       "      <th></th>\n",
       "      <th>Name</th>\n",
       "      <th>Age</th>\n",
       "      <th>Gender</th>\n",
       "    </tr>\n",
       "  </thead>\n",
       "  <tbody>\n",
       "    <tr>\n",
       "      <th>0</th>\n",
       "      <td>Alice</td>\n",
       "      <td>25</td>\n",
       "      <td>Female</td>\n",
       "    </tr>\n",
       "    <tr>\n",
       "      <th>1</th>\n",
       "      <td>Bob</td>\n",
       "      <td>30</td>\n",
       "      <td>Male</td>\n",
       "    </tr>\n",
       "    <tr>\n",
       "      <th>2</th>\n",
       "      <td>Claire</td>\n",
       "      <td>27</td>\n",
       "      <td>Female</td>\n",
       "    </tr>\n",
       "  </tbody>\n",
       "</table>\n",
       "</div>"
      ],
      "text/plain": [
       "     Name  Age  Gender\n",
       "0   Alice   25  Female\n",
       "1     Bob   30    Male\n",
       "2  Claire   27  Female"
      ]
     },
     "execution_count": 12,
     "metadata": {},
     "output_type": "execute_result"
    }
   ],
   "source": [
    "# Q3. Create a Pandas DataFrame that contains the following data:\n",
    "\n",
    "df = {'Name' : ['Alice', 'Bob', 'Claire'],\n",
    "     'Age' : [25, 30, 27],\n",
    "     'Gender' : ['Female', 'Male', 'Female']}\n",
    "\n",
    "pd.DataFrame(df)"
   ]
  },
  {
   "cell_type": "code",
   "execution_count": 14,
   "id": "1dfe115d-9a7b-44dd-b8c8-7c393ad200fc",
   "metadata": {},
   "outputs": [
    {
     "data": {
      "text/html": [
       "<div>\n",
       "<style scoped>\n",
       "    .dataframe tbody tr th:only-of-type {\n",
       "        vertical-align: middle;\n",
       "    }\n",
       "\n",
       "    .dataframe tbody tr th {\n",
       "        vertical-align: top;\n",
       "    }\n",
       "\n",
       "    .dataframe thead th {\n",
       "        text-align: right;\n",
       "    }\n",
       "</style>\n",
       "<table border=\"1\" class=\"dataframe\">\n",
       "  <thead>\n",
       "    <tr style=\"text-align: right;\">\n",
       "      <th></th>\n",
       "      <th>Name</th>\n",
       "      <th>Age</th>\n",
       "      <th>Address</th>\n",
       "    </tr>\n",
       "  </thead>\n",
       "  <tbody>\n",
       "    <tr>\n",
       "      <th>0</th>\n",
       "      <td>Soumen Das</td>\n",
       "      <td>20</td>\n",
       "      <td>Hatkanpur</td>\n",
       "    </tr>\n",
       "    <tr>\n",
       "      <th>1</th>\n",
       "      <td>Rupam Das</td>\n",
       "      <td>14</td>\n",
       "      <td>Hatkanpur</td>\n",
       "    </tr>\n",
       "  </tbody>\n",
       "</table>\n",
       "</div>"
      ],
      "text/plain": [
       "         Name  Age    Address\n",
       "0  Soumen Das   20  Hatkanpur\n",
       "1   Rupam Das   14  Hatkanpur"
      ]
     },
     "execution_count": 14,
     "metadata": {},
     "output_type": "execute_result"
    }
   ],
   "source": [
    "# Q4. What is ‘DataFrame’ in pandas and how is it different from pandas.series?\n",
    "# Explain with an example.\n",
    "\n",
    "# Ans: In pandas, a DataFrame is a 2-dimensional labeled data structure with columns of\n",
    "# potentially different types. It can be thought of as a table or spreadsheet, similar to\n",
    "# an Excel spreadsheet or a SQL table. Each column in a DataFrame is a pandas Series,\n",
    "# which can be of a different data type.\n",
    "\n",
    "# A pandas Series, on the other hand, is a one-dimensional labeled array capable of holding\n",
    "# any data type. It is similar to a list or an array in Python but with additional\n",
    "# functionalities and capabilities.\n",
    "\n",
    "#DataFrame Example:\n",
    "\n",
    "data = {'Name' : ['Soumen Das', 'Rupam Das'],\n",
    "        'Age' : [20,14],\n",
    "       'Address' : ['Hatkanpur', 'Hatkanpur'],}\n",
    "\n",
    "pd.DataFrame(data)"
   ]
  },
  {
   "cell_type": "code",
   "execution_count": 15,
   "id": "851ec936-8b74-4d4f-9bcf-7f25cf7bc675",
   "metadata": {},
   "outputs": [],
   "source": [
    "#Series Example\n",
    "\n",
    "s2 = pd.Series([1,2,3,4,5,6])"
   ]
  },
  {
   "cell_type": "code",
   "execution_count": 16,
   "id": "13e72131-d3ed-49f3-844e-c59a78dcf5c6",
   "metadata": {},
   "outputs": [
    {
     "data": {
      "text/plain": [
       "0    1\n",
       "1    2\n",
       "2    3\n",
       "3    4\n",
       "4    5\n",
       "5    6\n",
       "dtype: int64"
      ]
     },
     "execution_count": 16,
     "metadata": {},
     "output_type": "execute_result"
    }
   ],
   "source": [
    "s2"
   ]
  },
  {
   "cell_type": "code",
   "execution_count": 19,
   "id": "9fec3c94-3219-4529-a926-11c5f72bc187",
   "metadata": {},
   "outputs": [],
   "source": [
    "# Q5. What are some common functions you can use to manipulate data in a Pandas DataFrame?\n",
    "# Can you give an example of when you might use one of these functions?\n",
    "\n",
    "# Ans: In pandas DataFrame there are so many common functions we can use to manipulate data\n",
    "\n",
    "# (i) head() and tail(): These functions allow you to view the first or last n rows of the\n",
    "# DataFrame, respectively. They are often used to quickly inspect the structure of the DataFrame.\n",
    "\n",
    "# (ii) describe(): This function generates descriptive statistics of the numerical columns in\n",
    "# the DataFrame, such as count, mean, standard deviation, minimum, and maximum values.\n",
    "# It's useful for getting an overview of the data distribution.\n",
    "\n",
    "# (iii) info(): Provides a concise summary of the DataFrame, including its data types, non-null\n",
    "# values, and memory usage. It's helpful for understanding the basic structure of the DataFrame.\n",
    "\n",
    "# (iv) shape: Returns a tuple representing the dimensions of the DataFrame (number of rows, number\n",
    "# of columns). It's useful for quickly checking the size of the DataFrame.\n",
    "\n",
    "# (v) loc[] and iloc[]: These are primarily used for selecting rows and columns by label\n",
    "# (loc[]) or by integer position (iloc[]). They allow you to access specific data points\n",
    "# or slices within the DataFrame.\n",
    "\n",
    "# (vi) drop(): This function allows you to remove rows or columns from the DataFrame based on\n",
    "# specified labels or index. It's useful for data cleaning or removing unnecessary information.\n",
    "\n",
    "# (vii) fillna(): Used to fill missing (NaN) values in the DataFrame with specified values or\n",
    "# methods, such as mean, median, or forward/backward fill.\n",
    "\n",
    "# (ix) groupby(): This function is used to group the DataFrame by one or more columns and perform\n",
    "# operations on the grouped data. It's commonly used for aggregation tasks, such as calculating\n",
    "# group-wise statistics.\n",
    "\n",
    "# (x) apply(): Allows you to apply a function along an axis of the DataFrame. It's useful for\n",
    "# performing custom operations on the DataFrame or specific columns.\n",
    "\n",
    "# (xi) merge() and concat(): These functions are used for combining multiple DataFrames either\n",
    "# by merging on specified columns (merge()) or by concatenating along a particular axis\n",
    "# (concat()). They're useful for joining datasets or combining data from different sources.\n",
    "\n",
    "\n",
    "# 'groupby' function example\n",
    "\n",
    "sales_data = pd.DataFrame({\n",
    "    'date': ['2024-05-01', '2024-05-01', '2024-05-02', '2024-05-02'],\n",
    "    'product': ['A', 'B', 'A', 'B'],\n",
    "    'quantity': [10, 5, 8, 6],\n",
    "    'revenue': [100, 200, 150, 250]\n",
    "})\n",
    "\n",
    "product_revenue = sales_data.groupby('product')['revenue'].sum()"
   ]
  },
  {
   "cell_type": "code",
   "execution_count": 20,
   "id": "f620f8a9-fff6-40fd-a1f2-4dba7687deee",
   "metadata": {},
   "outputs": [
    {
     "data": {
      "text/plain": [
       "product\n",
       "A    250\n",
       "B    450\n",
       "Name: revenue, dtype: int64"
      ]
     },
     "execution_count": 20,
     "metadata": {},
     "output_type": "execute_result"
    }
   ],
   "source": [
    "product_revenue"
   ]
  },
  {
   "cell_type": "code",
   "execution_count": 21,
   "id": "b5e75226-665c-48b2-9d65-a00f57c1557d",
   "metadata": {},
   "outputs": [],
   "source": [
    "# Q6. Which of the following is mutable in nature Series, DataFrame, Panel?\n",
    "\n",
    "# Ans: Among Series, DataFrame, and Panel, both Series and DataFrame are mutable in nature,\n",
    "# while Panel is not mutable.\n",
    "\n",
    "# 1. Series: A pandas Series is mutable, meaning we can modify its values after creation.\n",
    "# we can change individual values, add new values, or remove existing ones.\n",
    "\n",
    "# 2. DataFrame: A pandas DataFrame is also mutable. we can modify its values, add or remove\n",
    "# columns, and perform various other operations to manipulate the data.\n",
    "\n",
    "# 3. Panel: However, Panel is not mutable. It was a data structure in pandas for handling\n",
    "# 3-dimensional data, but it has been deprecated since pandas version 0.25.0.\n",
    "# It's recommended to use other data structures like DataFrame for handling such data."
   ]
  },
  {
   "cell_type": "code",
   "execution_count": 27,
   "id": "232f774d-e138-40e9-bb9a-47c1d18f3217",
   "metadata": {},
   "outputs": [],
   "source": [
    "# Q7. Create a DataFrame using multiple Series. Explain with an example.\n",
    "\n",
    "name_series = pd.Series(['Soumen', 'Rupam'])\n",
    "age_series = pd.Series([20,14])\n",
    "gender_series = pd.Series(['Male', 'Male'])\n",
    "address_series = pd.Series(['hatkanpur', 'hatkanpur'])\n",
    "\n",
    "df = pd.DataFrame({'Name' : name_series,\n",
    "                  'Age' : age_series,\n",
    "                   'Gender' : gender_series,\n",
    "                  'Address' : address_series\n",
    "})"
   ]
  },
  {
   "cell_type": "code",
   "execution_count": 28,
   "id": "a959fb19-ec8e-4476-be07-83ed73b69181",
   "metadata": {},
   "outputs": [
    {
     "data": {
      "text/html": [
       "<div>\n",
       "<style scoped>\n",
       "    .dataframe tbody tr th:only-of-type {\n",
       "        vertical-align: middle;\n",
       "    }\n",
       "\n",
       "    .dataframe tbody tr th {\n",
       "        vertical-align: top;\n",
       "    }\n",
       "\n",
       "    .dataframe thead th {\n",
       "        text-align: right;\n",
       "    }\n",
       "</style>\n",
       "<table border=\"1\" class=\"dataframe\">\n",
       "  <thead>\n",
       "    <tr style=\"text-align: right;\">\n",
       "      <th></th>\n",
       "      <th>Name</th>\n",
       "      <th>Age</th>\n",
       "      <th>Gender</th>\n",
       "      <th>Address</th>\n",
       "    </tr>\n",
       "  </thead>\n",
       "  <tbody>\n",
       "    <tr>\n",
       "      <th>0</th>\n",
       "      <td>Soumen</td>\n",
       "      <td>20</td>\n",
       "      <td>Male</td>\n",
       "      <td>hatkanpur</td>\n",
       "    </tr>\n",
       "    <tr>\n",
       "      <th>1</th>\n",
       "      <td>Rupam</td>\n",
       "      <td>14</td>\n",
       "      <td>Male</td>\n",
       "      <td>hatkanpur</td>\n",
       "    </tr>\n",
       "  </tbody>\n",
       "</table>\n",
       "</div>"
      ],
      "text/plain": [
       "     Name  Age Gender    Address\n",
       "0  Soumen   20   Male  hatkanpur\n",
       "1   Rupam   14   Male  hatkanpur"
      ]
     },
     "execution_count": 28,
     "metadata": {},
     "output_type": "execute_result"
    }
   ],
   "source": [
    "df"
   ]
  },
  {
   "cell_type": "code",
   "execution_count": null,
   "id": "e6ff6682-f2e0-4fc0-8d7d-21ce7dcd6938",
   "metadata": {},
   "outputs": [],
   "source": []
  }
 ],
 "metadata": {
  "kernelspec": {
   "display_name": "Python 3 (ipykernel)",
   "language": "python",
   "name": "python3"
  },
  "language_info": {
   "codemirror_mode": {
    "name": "ipython",
    "version": 3
   },
   "file_extension": ".py",
   "mimetype": "text/x-python",
   "name": "python",
   "nbconvert_exporter": "python",
   "pygments_lexer": "ipython3",
   "version": "3.10.8"
  }
 },
 "nbformat": 4,
 "nbformat_minor": 5
}
